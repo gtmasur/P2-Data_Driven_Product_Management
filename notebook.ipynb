{
 "cells": [
  {
   "cell_type": "markdown",
   "id": "5ed0ca94-e3ab-4fab-a5a3-5eb0307b6c26",
   "metadata": {
    "collapsed": false,
    "jupyter": {
     "outputs_hidden": false,
     "source_hidden": false
    }
   },
   "source": [
    "![gym](gym.png)\n"
   ]
  },
  {
   "cell_type": "markdown",
   "id": "7ee8ccb9-c762-4f35-9b79-ebd2ab1824b0",
   "metadata": {},
   "source": [
    "\n",
    "## Data-Driven Product Management: Conducting a Market Analysis \n",
    "\n",
    "You are a product manager for a fitness studio and are interested in understanding the current demand for digital fitness classes. You plan to conduct a market analysis in Python to gauge demand and identify potential areas for growth of digital products and services.\n",
    "\n",
    "### The Data\n",
    "\n",
    "You are provided with a number of CSV files in the \"Files/data\" folder, which offer international and national-level data on Google Trends keyword searches related to fitness and related products. \n",
    "\n",
    "### workout.csv\n",
    "\n",
    "| Column     | Description              |\n",
    "|------------|--------------------------|\n",
    "| `'month'` | Month when the data was measured. |\n",
    "| `'workout_worldwide'` | Index representing the popularity of the keyword 'workout', on a scale of 0 to 100. |\n",
    "\n",
    "### three_keywords.csv\n",
    "\n",
    "| Column     | Description              |\n",
    "|------------|--------------------------|\n",
    "| `'month'` | Month when the data was measured. |\n",
    "| `'home_workout_worldwide'` | Index representing the popularity of the keyword 'home workout', on a scale of 0 to 100. |\n",
    "| `'gym_workout_worldwide'` | Index representing the popularity of the keyword 'gym workout', on a scale of 0 to 100. |\n",
    "| `'home_gym_worldwide'` | Index representing the popularity of the keyword 'home gym', on a scale of 0 to 100. |\n",
    "\n",
    "### workout_geo.csv\n",
    "\n",
    "| Column     | Description              |\n",
    "|------------|--------------------------|\n",
    "| `'country'` | Country where the data was measured. |\n",
    "| `'workout_2018_2023'` | Index representing the popularity of the keyword 'workout' during the 5 year period. |\n",
    "\n",
    "### three_keywords_geo.csv\n",
    "\n",
    "| Column     | Description              |\n",
    "|------------|--------------------------|\n",
    "| `'country'` | Country where the data was measured. |\n",
    "| `'home_workout_2018_2023'` | Index representing the popularity of the keyword 'home workout' during the 5 year period. |\n",
    "| `'gym_workout_2018_2023'` | Index representing the popularity of the keyword 'gym workout' during the 5 year period.  |\n",
    "| `'home_gym_2018_2023'` | Index representing the popularity of the keyword 'home gym' during the 5 year period. |"
   ]
  },
  {
   "cell_type": "markdown",
   "id": "05d372cd-3be0-4456-b7a7-41e914215ad3",
   "metadata": {},
   "source": [
    "### Project Instructions\n",
    "\n",
    "Help the fitness studio explore interest in workouts at a global and national level.\n",
    "- Task 1: When was the global search for 'workout' at its peak? Save the year of peak interest as a string named year_str in the format \"yyyy\".\n",
    "  \n",
    "- Task 2: Of the keywords available, what was the most popular during the covid pandemic, and what is the most popular now? Save your answers as variables called peak_covid and current respectively.\n",
    "\n",
    "  \n",
    "- Task 3: That country has the highest interest for workouts among the following: United States, Australia, or Japan? Save your answer as top_country.\n",
    "\n",
    "- Task 4: You'd be interested in expanding your virtual home workouts offering to either the Philippines or Malaysia. Which of the two countries has the highest interest in home workouts? Identify the country and save it as home_workout_geo."
   ]
  },
  {
   "cell_type": "code",
   "execution_count": 82,
   "id": "36e5d14e-3f2b-4123-97a3-d11880a7a047",
   "metadata": {
    "executionCancelledAt": null,
    "executionTime": 10,
    "lastExecutedAt": 1726323641038,
    "lastExecutedByKernel": "2b65d474-8856-4581-a5b0-7c04b09908ee",
    "lastScheduledRunId": null,
    "lastSuccessfullyExecutedCode": "# Import the necessary libraries\nimport pandas as pd\nimport matplotlib.pyplot as plt",
    "outputsMetadata": {
     "0": {
      "height": 321,
      "type": "dataFrame"
     }
    }
   },
   "outputs": [],
   "source": [
    "# Import the necessary libraries\n",
    "import pandas as pd\n",
    "import matplotlib.pyplot as plt"
   ]
  },
  {
   "cell_type": "code",
   "execution_count": 1,
   "id": "c303a942-ddac-498d-981e-0b7755259f3f",
   "metadata": {
    "executionCancelledAt": null,
    "executionTime": 53,
    "lastExecutedAt": 1726323641091,
    "lastExecutedByKernel": "2b65d474-8856-4581-a5b0-7c04b09908ee",
    "lastScheduledRunId": null,
    "lastSuccessfullyExecutedCode": "# Start coding here\n\nimport pandas as pd\nimport matplotlib.pyplot as plt\nimport numpy as np\n\n# Read all csv files\nworkout = pd.read_csv(\"./data/workout.csv\")\nthree_keywords = pd.read_csv(\"./data/three_keywords.csv\")\nworkout_geo = pd.read_csv(\"./data/workout_geo.csv\", index_col=0)\nthree_keywords_geo = pd.read_csv(\"./data/three_keywords_geo.csv\", index_col=0)\n\n#-----------------------------\n# TASK 1: \n#print(workout.head())\nwpop = workout['workout_worldwide']\nwpop_peak = workout[wpop == wpop.max()]\nyear_str = list(wpop_peak['month'])[0][:4] # important!!!\nprint('Task 1: '+year_str)\n\n#-----------------------------\n# TASK 2:\n\n# i) set covid timeframe, find the most popular one\n#print(three_keywords.head())\nmonth = three_keywords['month']\ncovid_tframe = np.logical_and( month>'2020-01', month<'2021-01')\ncovid_df = three_keywords[covid_tframe]\nval = covid_df.max()[1:].values  # find maximum vlaue in each column\nkey = covid_df.keys()[1:]\npeak_covid = key[np.where(val == val.max())][0]\n\n# ii) do it for the current time\nval = three_keywords.iloc[-1][1:].values\ncurrent = key[np.where(val == val.max())][0]\nprint('Task 2: ' + peak_covid + ' and ' + current)\n\n\n#-----------------------------\n# TASK 3:\n\n#print(workout_geo.head())\nsub_df = workout_geo.loc[['United States', 'Australia', 'Japan']]\ninterest = sub_df['workout_2018_2023']\ntop_country =  sub_df.loc[interest == interest.max()].index[0]\nprint('Task 3: '+ top_country)\n\n#-----------------------------\n# TASK 4: \n\n#print(three_keywords_geo.head())\nsub_df = three_keywords_geo.loc[['Philippines','Malaysia']]\ninterest = sub_df['home_workout_2018_2023']\nhome_workout_geo =  sub_df.loc[interest == interest.max()].index[0]\nprint('Task 4: '+ home_workout_geo)",
    "outputsMetadata": {
     "0": {
      "height": 101,
      "type": "stream"
     }
    }
   },
   "outputs": [
    {
     "name": "stdout",
     "output_type": "stream",
     "text": [
      "Task 1: 2020\n",
      "Task 2: home_workout_worldwide and gym_workout_worldwide\n",
      "Task 3: United States\n",
      "Task 4: Philippines\n"
     ]
    }
   ],
   "source": [
    "# Start coding here\n",
    "\n",
    "import pandas as pd\n",
    "import matplotlib.pyplot as plt\n",
    "import numpy as np\n",
    "\n",
    "# Read all csv files\n",
    "workout = pd.read_csv(\"./data/workout.csv\")\n",
    "three_keywords = pd.read_csv(\"./data/three_keywords.csv\")\n",
    "workout_geo = pd.read_csv(\"./data/workout_geo.csv\", index_col=0)\n",
    "three_keywords_geo = pd.read_csv(\"./data/three_keywords_geo.csv\", index_col=0)\n",
    "\n",
    "#-----------------------------\n",
    "# TASK 1: \n",
    "#print(workout.head())\n",
    "wpop = workout['workout_worldwide']\n",
    "wpop_peak = workout[wpop == wpop.max()]\n",
    "year_str = list(wpop_peak['month'])[0][:4]\n",
    "print('Task 1: '+year_str)\n",
    "\n",
    "#-----------------------------\n",
    "# TASK 2:\n",
    "\n",
    "# i) set covid timeframe, find the most popular one\n",
    "#print(three_keywords.head())\n",
    "month = three_keywords['month']\n",
    "covid_tframe = np.logical_and( month>'2020-01', month<'2021-01')\n",
    "covid_df = three_keywords[covid_tframe]\n",
    "val = covid_df.max()[1:].values  # find maximum vlaue in each column\n",
    "key = covid_df.keys()[1:]\n",
    "peak_covid = key[np.where(val == val.max())][0]\n",
    "\n",
    "# ii) do it for the current time\n",
    "val = three_keywords.iloc[-1][1:].values\n",
    "current = key[np.where(val == val.max())][0]\n",
    "print('Task 2: ' + peak_covid + ' and ' + current)\n",
    "\n",
    "\n",
    "#-----------------------------\n",
    "# TASK 3:\n",
    "\n",
    "#print(workout_geo.head())\n",
    "sub_df = workout_geo.loc[['United States', 'Australia', 'Japan']]\n",
    "interest = sub_df['workout_2018_2023']\n",
    "top_country =  sub_df.loc[interest == interest.max()].index[0]\n",
    "print('Task 3: '+ top_country)\n",
    "\n",
    "#-----------------------------\n",
    "# TASK 4: \n",
    "\n",
    "#print(three_keywords_geo.head())\n",
    "sub_df = three_keywords_geo.loc[['Philippines','Malaysia']]\n",
    "interest = sub_df['home_workout_2018_2023']\n",
    "home_workout_geo =  sub_df.loc[interest == interest.max()].index[0]\n",
    "print('Task 4: '+ home_workout_geo)"
   ]
  },
  {
   "cell_type": "code",
   "execution_count": null,
   "id": "19ede18f-18f5-4294-90b9-9c378f9991da",
   "metadata": {},
   "outputs": [],
   "source": []
  }
 ],
 "metadata": {
  "colab": {
   "name": "Welcome to DataCamp Workspaces.ipynb",
   "provenance": []
  },
  "editor": "DataLab",
  "kernelspec": {
   "display_name": "Python 3 (ipykernel)",
   "language": "python",
   "name": "python3"
  },
  "language_info": {
   "codemirror_mode": {
    "name": "ipython",
    "version": 3
   },
   "file_extension": ".py",
   "mimetype": "text/x-python",
   "name": "python",
   "nbconvert_exporter": "python",
   "pygments_lexer": "ipython3",
   "version": "3.12.3"
  }
 },
 "nbformat": 4,
 "nbformat_minor": 5
}
